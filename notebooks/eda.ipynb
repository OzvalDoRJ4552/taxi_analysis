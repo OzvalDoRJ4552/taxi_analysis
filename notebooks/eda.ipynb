{
 "cells": [
  {
   "cell_type": "markdown",
   "id": "67c04e5d",
   "metadata": {},
   "source": [
    "# Zuber Taxi Company Data Analysis - Part 1\n",
    "# \n",
    "### This analysis explores ride data from two datasets:\n",
    "### 1) Taxi companies and their trip counts on Nov 15-16, 2017.\n",
    "### 2) Average trip drop-offs by Chicago neighborhoods in November 2017.\n",
    "#\n",
    "### Goals:\n",
    "### - Understand the distribution of rides by company.\n",
    "### - Identify top neighborhoods for ride drop-offs.\n",
    "### - Visualize findings to draw insights."
   ]
  },
  {
   "cell_type": "code",
   "execution_count": 1,
   "id": "68b0aacf",
   "metadata": {},
   "outputs": [],
   "source": [
    "import pandas as pd \n",
    "import matplotlib.pyplot as plt\n",
    "import seaborn as sns \n",
    "from scipy.stats import ttest_ind "
   ]
  },
  {
   "cell_type": "code",
   "execution_count": 2,
   "id": "d02f2643",
   "metadata": {},
   "outputs": [
    {
     "name": "stdout",
     "output_type": "stream",
     "text": [
      "(64, 2)\n"
     ]
    },
    {
     "data": {
      "text/html": [
       "<div>\n",
       "<style scoped>\n",
       "    .dataframe tbody tr th:only-of-type {\n",
       "        vertical-align: middle;\n",
       "    }\n",
       "\n",
       "    .dataframe tbody tr th {\n",
       "        vertical-align: top;\n",
       "    }\n",
       "\n",
       "    .dataframe thead th {\n",
       "        text-align: right;\n",
       "    }\n",
       "</style>\n",
       "<table border=\"1\" class=\"dataframe\">\n",
       "  <thead>\n",
       "    <tr style=\"text-align: right;\">\n",
       "      <th></th>\n",
       "      <th>company_name</th>\n",
       "      <th>trips_amount</th>\n",
       "    </tr>\n",
       "  </thead>\n",
       "  <tbody>\n",
       "    <tr>\n",
       "      <th>0</th>\n",
       "      <td>Flash Cab</td>\n",
       "      <td>19558</td>\n",
       "    </tr>\n",
       "    <tr>\n",
       "      <th>1</th>\n",
       "      <td>Taxi Affiliation Services</td>\n",
       "      <td>11422</td>\n",
       "    </tr>\n",
       "    <tr>\n",
       "      <th>2</th>\n",
       "      <td>Medallion Leasin</td>\n",
       "      <td>10367</td>\n",
       "    </tr>\n",
       "    <tr>\n",
       "      <th>3</th>\n",
       "      <td>Yellow Cab</td>\n",
       "      <td>9888</td>\n",
       "    </tr>\n",
       "    <tr>\n",
       "      <th>4</th>\n",
       "      <td>Taxi Affiliation Service Yellow</td>\n",
       "      <td>9299</td>\n",
       "    </tr>\n",
       "  </tbody>\n",
       "</table>\n",
       "</div>"
      ],
      "text/plain": [
       "                      company_name  trips_amount\n",
       "0                        Flash Cab         19558\n",
       "1        Taxi Affiliation Services         11422\n",
       "2                 Medallion Leasin         10367\n",
       "3                       Yellow Cab          9888\n",
       "4  Taxi Affiliation Service Yellow          9299"
      ]
     },
     "execution_count": 2,
     "metadata": {},
     "output_type": "execute_result"
    }
   ],
   "source": [
    "companies_df = pd.read_csv('../data/moved_project_sql_result_01.csv')\n",
    "print(companies_df.shape)\n",
    "companies_df.head()\n"
   ]
  },
  {
   "cell_type": "code",
   "execution_count": 3,
   "id": "c5f0a210",
   "metadata": {},
   "outputs": [
    {
     "name": "stdout",
     "output_type": "stream",
     "text": [
      "(94, 2)\n"
     ]
    },
    {
     "data": {
      "text/html": [
       "<div>\n",
       "<style scoped>\n",
       "    .dataframe tbody tr th:only-of-type {\n",
       "        vertical-align: middle;\n",
       "    }\n",
       "\n",
       "    .dataframe tbody tr th {\n",
       "        vertical-align: top;\n",
       "    }\n",
       "\n",
       "    .dataframe thead th {\n",
       "        text-align: right;\n",
       "    }\n",
       "</style>\n",
       "<table border=\"1\" class=\"dataframe\">\n",
       "  <thead>\n",
       "    <tr style=\"text-align: right;\">\n",
       "      <th></th>\n",
       "      <th>dropoff_location_name</th>\n",
       "      <th>average_trips</th>\n",
       "    </tr>\n",
       "  </thead>\n",
       "  <tbody>\n",
       "    <tr>\n",
       "      <th>0</th>\n",
       "      <td>Loop</td>\n",
       "      <td>10727.466667</td>\n",
       "    </tr>\n",
       "    <tr>\n",
       "      <th>1</th>\n",
       "      <td>River North</td>\n",
       "      <td>9523.666667</td>\n",
       "    </tr>\n",
       "    <tr>\n",
       "      <th>2</th>\n",
       "      <td>Streeterville</td>\n",
       "      <td>6664.666667</td>\n",
       "    </tr>\n",
       "    <tr>\n",
       "      <th>3</th>\n",
       "      <td>West Loop</td>\n",
       "      <td>5163.666667</td>\n",
       "    </tr>\n",
       "    <tr>\n",
       "      <th>4</th>\n",
       "      <td>O'Hare</td>\n",
       "      <td>2546.900000</td>\n",
       "    </tr>\n",
       "  </tbody>\n",
       "</table>\n",
       "</div>"
      ],
      "text/plain": [
       "  dropoff_location_name  average_trips\n",
       "0                  Loop   10727.466667\n",
       "1           River North    9523.666667\n",
       "2         Streeterville    6664.666667\n",
       "3             West Loop    5163.666667\n",
       "4                O'Hare    2546.900000"
      ]
     },
     "execution_count": 3,
     "metadata": {},
     "output_type": "execute_result"
    }
   ],
   "source": [
    "dropoffs_df = pd.read_csv('../data/moved_project_sql_result_04.csv')\n",
    "print(dropoffs_df.shape)\n",
    "dropoffs_df.head()"
   ]
  },
  {
   "cell_type": "code",
   "execution_count": 4,
   "id": "4a73f347",
   "metadata": {},
   "outputs": [
    {
     "name": "stdout",
     "output_type": "stream",
     "text": [
      "<class 'pandas.core.frame.DataFrame'>\n",
      "RangeIndex: 64 entries, 0 to 63\n",
      "Data columns (total 2 columns):\n",
      " #   Column        Non-Null Count  Dtype \n",
      "---  ------        --------------  ----- \n",
      " 0   company_name  64 non-null     object\n",
      " 1   trips_amount  64 non-null     int64 \n",
      "dtypes: int64(1), object(1)\n",
      "memory usage: 1.1+ KB\n",
      "\n",
      "\n",
      "_________________\n",
      "<class 'pandas.core.frame.DataFrame'>\n",
      "RangeIndex: 94 entries, 0 to 93\n",
      "Data columns (total 2 columns):\n",
      " #   Column                 Non-Null Count  Dtype  \n",
      "---  ------                 --------------  -----  \n",
      " 0   dropoff_location_name  94 non-null     object \n",
      " 1   average_trips          94 non-null     float64\n",
      "dtypes: float64(1), object(1)\n",
      "memory usage: 1.6+ KB\n"
     ]
    }
   ],
   "source": [
    "companies_df.info()\n",
    "print(\"\\n\")\n",
    "print('_________________')\n",
    "dropoffs_df.info()"
   ]
  },
  {
   "cell_type": "markdown",
   "id": "2e850e29",
   "metadata": {},
   "source": [
    "#### Here we loaded all of our data and we can see that it all looks right, there is no missng values and no need to convert anything "
   ]
  },
  {
   "cell_type": "code",
   "execution_count": 5,
   "id": "4b5cd97c",
   "metadata": {},
   "outputs": [
    {
     "data": {
      "text/html": [
       "<div>\n",
       "<style scoped>\n",
       "    .dataframe tbody tr th:only-of-type {\n",
       "        vertical-align: middle;\n",
       "    }\n",
       "\n",
       "    .dataframe tbody tr th {\n",
       "        vertical-align: top;\n",
       "    }\n",
       "\n",
       "    .dataframe thead th {\n",
       "        text-align: right;\n",
       "    }\n",
       "</style>\n",
       "<table border=\"1\" class=\"dataframe\">\n",
       "  <thead>\n",
       "    <tr style=\"text-align: right;\">\n",
       "      <th></th>\n",
       "      <th>dropoff_location_name</th>\n",
       "      <th>average_trips</th>\n",
       "    </tr>\n",
       "  </thead>\n",
       "  <tbody>\n",
       "    <tr>\n",
       "      <th>0</th>\n",
       "      <td>Loop</td>\n",
       "      <td>10727.466667</td>\n",
       "    </tr>\n",
       "    <tr>\n",
       "      <th>1</th>\n",
       "      <td>River North</td>\n",
       "      <td>9523.666667</td>\n",
       "    </tr>\n",
       "    <tr>\n",
       "      <th>2</th>\n",
       "      <td>Streeterville</td>\n",
       "      <td>6664.666667</td>\n",
       "    </tr>\n",
       "    <tr>\n",
       "      <th>3</th>\n",
       "      <td>West Loop</td>\n",
       "      <td>5163.666667</td>\n",
       "    </tr>\n",
       "    <tr>\n",
       "      <th>4</th>\n",
       "      <td>O'Hare</td>\n",
       "      <td>2546.900000</td>\n",
       "    </tr>\n",
       "    <tr>\n",
       "      <th>5</th>\n",
       "      <td>Lake View</td>\n",
       "      <td>2420.966667</td>\n",
       "    </tr>\n",
       "    <tr>\n",
       "      <th>6</th>\n",
       "      <td>Grant Park</td>\n",
       "      <td>2068.533333</td>\n",
       "    </tr>\n",
       "    <tr>\n",
       "      <th>7</th>\n",
       "      <td>Museum Campus</td>\n",
       "      <td>1510.000000</td>\n",
       "    </tr>\n",
       "    <tr>\n",
       "      <th>8</th>\n",
       "      <td>Gold Coast</td>\n",
       "      <td>1364.233333</td>\n",
       "    </tr>\n",
       "    <tr>\n",
       "      <th>9</th>\n",
       "      <td>Sheffield &amp; DePaul</td>\n",
       "      <td>1259.766667</td>\n",
       "    </tr>\n",
       "  </tbody>\n",
       "</table>\n",
       "</div>"
      ],
      "text/plain": [
       "  dropoff_location_name  average_trips\n",
       "0                  Loop   10727.466667\n",
       "1           River North    9523.666667\n",
       "2         Streeterville    6664.666667\n",
       "3             West Loop    5163.666667\n",
       "4                O'Hare    2546.900000\n",
       "5             Lake View    2420.966667\n",
       "6            Grant Park    2068.533333\n",
       "7         Museum Campus    1510.000000\n",
       "8            Gold Coast    1364.233333\n",
       "9    Sheffield & DePaul    1259.766667"
      ]
     },
     "execution_count": 5,
     "metadata": {},
     "output_type": "execute_result"
    }
   ],
   "source": [
    "# Find top 10 neighborhoods with highest average drop-offs\n",
    "# sort neighborhoods by average trips in descending order\n",
    "top10_neighborhoods = dropoffs_df.sort_values(by='average_trips', ascending=False).head(10)\n",
    "top10_neighborhoods\n"
   ]
  },
  {
   "cell_type": "markdown",
   "id": "5c8bc607",
   "metadata": {},
   "source": [
    "* The top 10 neiberhoods by average drop offs show areas with high ride activity un chicago during November 2017.\n",
    "* Loop and River Nort lead the list, which makes sense givinf there downtown locatioon and bussiness activity."
   ]
  },
  {
   "cell_type": "code",
   "execution_count": 6,
   "id": "abbf3e4b",
   "metadata": {},
   "outputs": [
    {
     "data": {
      "image/png": "[encoded data removed]",
      "text/plain": [
       "<Figure size 1200x600 with 1 Axes>"
      ]
     },
     "metadata": {},
     "output_type": "display_data"
    }
   ],
   "source": [
    "# with a bar chart visualize the top 10 companies by average drop-offs \n",
    "top10_companies = companies_df.sort_values(by='trips_amount', ascending=False).head(10)\n",
    "\n",
    "plt.figure(figsize=(12, 6))\n",
    "plt.bar(top10_companies['company_name'], top10_companies['trips_amount'], color='skyblue')\n",
    "plt.xticks(rotation=45)\n",
    "plt.xlabel('Taxi Company')\n",
    "plt.ylabel('Number of Trips')\n",
    "plt.title('Top 10 Taxi Companies by Number of Trips (Nov 15-16, 2017)')\n",
    "plt.tight_layout()\n",
    "plt.show()"
   ]
  },
  {
   "cell_type": "markdown",
   "id": "582ba6af",
   "metadata": {},
   "source": [
    "* Flash Cab has the highest number of trips, followed by Taxi Affiliation Services and Medallion Leasing.  \n",
    "* This suggests these companies dominate ride activity during Nov 15-16, 2017."
   ]
  },
  {
   "cell_type": "code",
   "execution_count": 7,
   "id": "365167af",
   "metadata": {},
   "outputs": [
    {
     "data": {
      "image/png": "[encoded data removed]",
      "text/plain": [
       "<Figure size 1200x600 with 1 Axes>"
      ]
     },
     "metadata": {},
     "output_type": "display_data"
    }
   ],
   "source": [
    "# visualize the top 10 neighborhoods by average drop-offs\n",
    "\n",
    "plt.figure(figsize=(12, 6))\n",
    "plt.bar(top10_neighborhoods['dropoff_location_name'], top10_neighborhoods['average_trips'], color='lightgreen')\n",
    "plt.xticks(rotation=45)\n",
    "plt.xlabel('Drop Off Location')\n",
    "plt.ylabel('Average Trips')\n",
    "plt.title('Top 10 Neighborhoods by Average Drop Offs (Nov 15-16,2017) ')\n",
    "plt.tight_layout()\n",
    "plt.show()"
   ]
  },
  {
   "cell_type": "markdown",
   "id": "d38d9967",
   "metadata": {},
   "source": [
    "* The top 10 neighborhoods are shown in this graph, with Loop having the highest average drop-offs followed by River North.\n",
    "\n",
    "* This makes sense as both are major commercial and entertainment hubs in Chicago, likely attracting many taxi rides."
   ]
  },
  {
   "cell_type": "code",
   "execution_count": 8,
   "id": "f4b9ab31",
   "metadata": {},
   "outputs": [
    {
     "name": "stdout",
     "output_type": "stream",
     "text": [
      "<class 'pandas.core.frame.DataFrame'>\n",
      "RangeIndex: 1068 entries, 0 to 1067\n",
      "Data columns (total 3 columns):\n",
      " #   Column              Non-Null Count  Dtype  \n",
      "---  ------              --------------  -----  \n",
      " 0   start_ts            1068 non-null   object \n",
      " 1   weather_conditions  1068 non-null   object \n",
      " 2   duration_seconds    1068 non-null   float64\n",
      "dtypes: float64(1), object(2)\n",
      "memory usage: 25.2+ KB\n",
      "_______\n"
     ]
    },
    {
     "data": {
      "text/html": [
       "<div>\n",
       "<style scoped>\n",
       "    .dataframe tbody tr th:only-of-type {\n",
       "        vertical-align: middle;\n",
       "    }\n",
       "\n",
       "    .dataframe tbody tr th {\n",
       "        vertical-align: top;\n",
       "    }\n",
       "\n",
       "    .dataframe thead th {\n",
       "        text-align: right;\n",
       "    }\n",
       "</style>\n",
       "<table border=\"1\" class=\"dataframe\">\n",
       "  <thead>\n",
       "    <tr style=\"text-align: right;\">\n",
       "      <th></th>\n",
       "      <th>start_ts</th>\n",
       "      <th>weather_conditions</th>\n",
       "      <th>duration_seconds</th>\n",
       "    </tr>\n",
       "  </thead>\n",
       "  <tbody>\n",
       "    <tr>\n",
       "      <th>0</th>\n",
       "      <td>2017-11-25 16:00:00</td>\n",
       "      <td>Good</td>\n",
       "      <td>2410.0</td>\n",
       "    </tr>\n",
       "    <tr>\n",
       "      <th>1</th>\n",
       "      <td>2017-11-25 14:00:00</td>\n",
       "      <td>Good</td>\n",
       "      <td>1920.0</td>\n",
       "    </tr>\n",
       "    <tr>\n",
       "      <th>2</th>\n",
       "      <td>2017-11-25 12:00:00</td>\n",
       "      <td>Good</td>\n",
       "      <td>1543.0</td>\n",
       "    </tr>\n",
       "    <tr>\n",
       "      <th>3</th>\n",
       "      <td>2017-11-04 10:00:00</td>\n",
       "      <td>Good</td>\n",
       "      <td>2512.0</td>\n",
       "    </tr>\n",
       "    <tr>\n",
       "      <th>4</th>\n",
       "      <td>2017-11-11 07:00:00</td>\n",
       "      <td>Good</td>\n",
       "      <td>1440.0</td>\n",
       "    </tr>\n",
       "  </tbody>\n",
       "</table>\n",
       "</div>"
      ],
      "text/plain": [
       "              start_ts weather_conditions  duration_seconds\n",
       "0  2017-11-25 16:00:00               Good            2410.0\n",
       "1  2017-11-25 14:00:00               Good            1920.0\n",
       "2  2017-11-25 12:00:00               Good            1543.0\n",
       "3  2017-11-04 10:00:00               Good            2512.0\n",
       "4  2017-11-11 07:00:00               Good            1440.0"
      ]
     },
     "execution_count": 8,
     "metadata": {},
     "output_type": "execute_result"
    }
   ],
   "source": [
    "# load the third dataset and isnpect it\n",
    "weather_df = pd.read_csv('../data/moved_project_sql_result_07.csv')\n",
    "weather_df.info()\n",
    "print('_______')\n",
    "weather_df.head()"
   ]
  },
  {
   "cell_type": "markdown",
   "id": "a63390b4",
   "metadata": {},
   "source": [
    "* Now inspected, dataset has no missing values but will beed to convert start_ts to a datetime and convert duration_seconds to a more manageble time amount"
   ]
  },
  {
   "cell_type": "code",
   "execution_count": 9,
   "id": "7530202b",
   "metadata": {},
   "outputs": [],
   "source": [
    "# Change start_ts to datetime\n",
    "weather_df['start_ts'] = pd.to_datetime(weather_df['start_ts'])"
   ]
  },
  {
   "cell_type": "code",
   "execution_count": 10,
   "id": "3796507d",
   "metadata": {},
   "outputs": [],
   "source": [
    "# Convert duration_seconds to a more manageable time amount and change column name to duration_minutes\n",
    "weather_df.rename(columns={'duration_seconds': 'duration_min'}, inplace=True)\n",
    "weather_df['duration_min'] = weather_df['duration_min'] / 60  # convert seconds to minutes"
   ]
  },
  {
   "cell_type": "code",
   "execution_count": 11,
   "id": "68c8ed3b",
   "metadata": {},
   "outputs": [
    {
     "data": {
      "text/html": [
       "<div>\n",
       "<style scoped>\n",
       "    .dataframe tbody tr th:only-of-type {\n",
       "        vertical-align: middle;\n",
       "    }\n",
       "\n",
       "    .dataframe tbody tr th {\n",
       "        vertical-align: top;\n",
       "    }\n",
       "\n",
       "    .dataframe thead th {\n",
       "        text-align: right;\n",
       "    }\n",
       "</style>\n",
       "<table border=\"1\" class=\"dataframe\">\n",
       "  <thead>\n",
       "    <tr style=\"text-align: right;\">\n",
       "      <th></th>\n",
       "      <th>start_ts</th>\n",
       "      <th>weather_conditions</th>\n",
       "      <th>duration_min</th>\n",
       "    </tr>\n",
       "  </thead>\n",
       "  <tbody>\n",
       "    <tr>\n",
       "      <th>0</th>\n",
       "      <td>2017-11-25 16:00:00</td>\n",
       "      <td>Good</td>\n",
       "      <td>40.166667</td>\n",
       "    </tr>\n",
       "    <tr>\n",
       "      <th>1</th>\n",
       "      <td>2017-11-25 14:00:00</td>\n",
       "      <td>Good</td>\n",
       "      <td>32.000000</td>\n",
       "    </tr>\n",
       "    <tr>\n",
       "      <th>2</th>\n",
       "      <td>2017-11-25 12:00:00</td>\n",
       "      <td>Good</td>\n",
       "      <td>25.716667</td>\n",
       "    </tr>\n",
       "    <tr>\n",
       "      <th>3</th>\n",
       "      <td>2017-11-04 10:00:00</td>\n",
       "      <td>Good</td>\n",
       "      <td>41.866667</td>\n",
       "    </tr>\n",
       "    <tr>\n",
       "      <th>4</th>\n",
       "      <td>2017-11-11 07:00:00</td>\n",
       "      <td>Good</td>\n",
       "      <td>24.000000</td>\n",
       "    </tr>\n",
       "  </tbody>\n",
       "</table>\n",
       "</div>"
      ],
      "text/plain": [
       "             start_ts weather_conditions  duration_min\n",
       "0 2017-11-25 16:00:00               Good     40.166667\n",
       "1 2017-11-25 14:00:00               Good     32.000000\n",
       "2 2017-11-25 12:00:00               Good     25.716667\n",
       "3 2017-11-04 10:00:00               Good     41.866667\n",
       "4 2017-11-11 07:00:00               Good     24.000000"
      ]
     },
     "execution_count": 11,
     "metadata": {},
     "output_type": "execute_result"
    }
   ],
   "source": [
    "weather_df.head()"
   ]
  },
  {
   "cell_type": "markdown",
   "id": "8c892c78",
   "metadata": {},
   "source": [
    "# Hypothesis test"
   ]
  },
  {
   "cell_type": "code",
   "execution_count": 12,
   "id": "401cb4b7",
   "metadata": {},
   "outputs": [
    {
     "name": "stdout",
     "output_type": "stream",
     "text": [
      "Total rides on saturday: 1068\n"
     ]
    },
    {
     "data": {
      "text/html": [
       "<div>\n",
       "<style scoped>\n",
       "    .dataframe tbody tr th:only-of-type {\n",
       "        vertical-align: middle;\n",
       "    }\n",
       "\n",
       "    .dataframe tbody tr th {\n",
       "        vertical-align: top;\n",
       "    }\n",
       "\n",
       "    .dataframe thead th {\n",
       "        text-align: right;\n",
       "    }\n",
       "</style>\n",
       "<table border=\"1\" class=\"dataframe\">\n",
       "  <thead>\n",
       "    <tr style=\"text-align: right;\">\n",
       "      <th></th>\n",
       "      <th>start_ts</th>\n",
       "      <th>weather_conditions</th>\n",
       "      <th>duration_min</th>\n",
       "    </tr>\n",
       "  </thead>\n",
       "  <tbody>\n",
       "    <tr>\n",
       "      <th>0</th>\n",
       "      <td>2017-11-25 16:00:00</td>\n",
       "      <td>Good</td>\n",
       "      <td>40.166667</td>\n",
       "    </tr>\n",
       "    <tr>\n",
       "      <th>1</th>\n",
       "      <td>2017-11-25 14:00:00</td>\n",
       "      <td>Good</td>\n",
       "      <td>32.000000</td>\n",
       "    </tr>\n",
       "    <tr>\n",
       "      <th>2</th>\n",
       "      <td>2017-11-25 12:00:00</td>\n",
       "      <td>Good</td>\n",
       "      <td>25.716667</td>\n",
       "    </tr>\n",
       "    <tr>\n",
       "      <th>3</th>\n",
       "      <td>2017-11-04 10:00:00</td>\n",
       "      <td>Good</td>\n",
       "      <td>41.866667</td>\n",
       "    </tr>\n",
       "    <tr>\n",
       "      <th>4</th>\n",
       "      <td>2017-11-11 07:00:00</td>\n",
       "      <td>Good</td>\n",
       "      <td>24.000000</td>\n",
       "    </tr>\n",
       "  </tbody>\n",
       "</table>\n",
       "</div>"
      ],
      "text/plain": [
       "             start_ts weather_conditions  duration_min\n",
       "0 2017-11-25 16:00:00               Good     40.166667\n",
       "1 2017-11-25 14:00:00               Good     32.000000\n",
       "2 2017-11-25 12:00:00               Good     25.716667\n",
       "3 2017-11-04 10:00:00               Good     41.866667\n",
       "4 2017-11-11 07:00:00               Good     24.000000"
      ]
     },
     "execution_count": 12,
     "metadata": {},
     "output_type": "execute_result"
    }
   ],
   "source": [
    "# filter rides that started on Sturday (dayofweek == 5)\n",
    "saturday_rides = weather_df[weather_df['start_ts'].dt.dayofweek == 5]\n",
    "\n",
    "# check how many rides happend on saturday \n",
    "print(f\"Total rides on saturday: {len(saturday_rides)}\")\n",
    "saturday_rides.head()\n"
   ]
  },
  {
   "cell_type": "code",
   "execution_count": 14,
   "id": "65b4ff66",
   "metadata": {},
   "outputs": [
    {
     "name": "stdout",
     "output_type": "stream",
     "text": [
      "Rainy Saturday rides: 180\n",
      "Non-rainy Saturday_rides: 888\n"
     ]
    }
   ],
   "source": [
    "# split saturdays in 2 categories (rainy and not rainy)\n",
    "rainy_saturday_rides = saturday_rides[saturday_rides['weather_conditions'] == 'Bad']\n",
    "non_rainy_saturday_rides = saturday_rides[saturday_rides['weather_conditions'] == 'Good']\n",
    "\n",
    "# Print the number of rides in each category\n",
    "print(f\"Rainy Saturday rides: {len(rainy_saturday_rides)}\")\n",
    "print(f\"Non-rainy Saturday_rides: {len(non_rainy_saturday_rides)}\")\n"
   ]
  },
  {
   "cell_type": "markdown",
   "id": "a7193147",
   "metadata": {},
   "source": [
    "#### we can see that there are 180 saturday rides with \"bad\" weather and 1068 with good weather  "
   ]
  },
  {
   "cell_type": "code",
   "execution_count": 15,
   "id": "7951304f",
   "metadata": {},
   "outputs": [
    {
     "name": "stdout",
     "output_type": "stream",
     "text": [
      "T-statistic: 7.1860342880686225\n",
      "P-value: 6.738994326109027e-12\n",
      "P-value < 0.05: Reject the null hypothesis. Average ride duration differs on rainy Saturdays. \n"
     ]
    }
   ],
   "source": [
    "# Hypothesis test\n",
    "# set aplha level\n",
    "alpha = 0.05\n",
    " \n",
    "rainy_duration = rainy_saturday_rides['duration_min']\n",
    "good_duration = non_rainy_saturday_rides['duration_min']\n",
    "\n",
    "# Run welch's t-test\n",
    "t_stat, p_value = ttest_ind(rainy_duration, good_duration, equal_var=False)\n",
    "\n",
    "print(f\"T-statistic: {t_stat}\")\n",
    "print(f\"P-value: {p_value}\")\n",
    "\n",
    "# interpret the results bases on aplha\n",
    "if p_value < alpha:\n",
    "    print(f\"P-value < {alpha}: Reject the null hypothesis. Average ride duration differs on rainy Saturdays. \")\n",
    "else:\n",
    "    print(f\"P-value >= {alpha}: Fail to reject the null hypothesis. No significant difference in average ride duration on rainy Saturdays.\")"
   ]
  },
  {
   "cell_type": "markdown",
   "id": "2f1db7d6",
   "metadata": {},
   "source": [
    "### The t-test comparing ride durations on rainy versus good weather Saturdays yielded a t-statistic of 7.19 and a p-value < 0.001. Since the p-value is much smaller than the significance level of 0.05, we reject the null hypothesis. This indicates that average ride durations significantly differ on rainy Saturdays compared to good weather Saturdays, suggesting that weather conditions affect travel time from the Loop to O’Hare.\""
   ]
  }
 ],
 "metadata": {
  "kernelspec": {
   "display_name": "venv (3.13.3)",
   "language": "python",
   "name": "python3"
  },
  "language_info": {
   "codemirror_mode": {
    "name": "ipython",
    "version": 3
   },
   "file_extension": ".py",
   "mimetype": "text/x-python",
   "name": "python",
   "nbconvert_exporter": "python",
   "pygments_lexer": "ipython3",
   "version": "3.13.3"
  }
 },
 "nbformat": 4,
 "nbformat_minor": 5
}
